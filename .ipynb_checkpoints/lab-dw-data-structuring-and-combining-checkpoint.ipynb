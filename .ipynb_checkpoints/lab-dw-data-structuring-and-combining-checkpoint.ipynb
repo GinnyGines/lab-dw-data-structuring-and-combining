{
 "cells": [
  {
   "cell_type": "markdown",
   "id": "25d7736c-ba17-4aff-b6bb-66eba20fbf4e",
   "metadata": {
    "id": "25d7736c-ba17-4aff-b6bb-66eba20fbf4e"
   },
   "source": [
    "# Lab | Data Structuring and Combining Data"
   ]
  },
  {
   "cell_type": "markdown",
   "id": "a2cdfc70-44c8-478c-81e7-2bc43fdf4986",
   "metadata": {
    "id": "a2cdfc70-44c8-478c-81e7-2bc43fdf4986"
   },
   "source": [
    "## Challenge 1: Combining & Cleaning Data\n",
    "\n",
    "In this challenge, we will be working with the customer data from an insurance company, as we did in the two previous labs. The data can be found here:\n",
    "- https://raw.githubusercontent.com/data-bootcamp-v4/data/main/file1.csv\n",
    "\n",
    "But this time, we got new data, which can be found in the following 2 CSV files located at the links below.\n",
    "\n",
    "- https://raw.githubusercontent.com/data-bootcamp-v4/data/main/file2.csv\n",
    "- https://raw.githubusercontent.com/data-bootcamp-v4/data/main/file3.csv\n",
    "\n",
    "Note that you'll need to clean and format the new data.\n",
    "\n",
    "Observation:\n",
    "- One option is to first combine the three datasets and then apply the cleaning function to the new combined dataset\n",
    "- Another option would be to read the clean file you saved in the previous lab, and just clean the two new files and concatenate the three clean datasets"
   ]
  },
  {
   "cell_type": "code",
   "execution_count": null,
   "id": "492d06e3-92c7-4105-ac72-536db98d3244",
   "metadata": {
    "id": "492d06e3-92c7-4105-ac72-536db98d3244"
   },
   "outputs": [],
   "source": [
    "import pandas as \n",
    "\n",
    "def read_csv_from_url(url): https://raw.githubusercontent.com/data-bootcamp-v4/data/main/file1.csv"
   ]
  },
  {
   "cell_type": "markdown",
   "id": "31b8a9e7-7db9-4604-991b-ef6771603e57",
   "metadata": {
    "id": "31b8a9e7-7db9-4604-991b-ef6771603e57"
   },
   "source": [
    "# Challenge 2: Structuring Data"
   ]
  },
  {
   "cell_type": "markdown",
   "id": "a877fd6d-7a0c-46d2-9657-f25036e4ca4b",
   "metadata": {
    "id": "a877fd6d-7a0c-46d2-9657-f25036e4ca4b"
   },
   "source": [
    "In this challenge, we will continue to work with customer data from an insurance company, but we will use a dataset with more columns, called marketing_customer_analysis.csv, which can be found at the following link:\n",
    "\n",
    "https://raw.githubusercontent.com/data-bootcamp-v4/data/main/marketing_customer_analysis_clean.csv\n",
    "\n",
    "This dataset contains information such as customer demographics, policy details, vehicle information, and the customer's response to the last marketing campaign. Our goal is to explore and analyze this data by performing data cleaning, formatting, and structuring."
   ]
  },
  {
   "cell_type": "code",
   "execution_count": 1,
   "id": "aa10d9b0-1c27-4d3f-a8e4-db6ab73bfd26",
   "metadata": {
    "id": "aa10d9b0-1c27-4d3f-a8e4-db6ab73bfd26"
   },
   "outputs": [
    {
     "name": "stdout",
     "output_type": "stream",
     "text": [
      "     Customer          ST GENDER             Education  \\\n",
      "0     RB50392  Washington    NaN                Master   \n",
      "1     QZ44356     Arizona      F              Bachelor   \n",
      "2     AI49188      Nevada      F              Bachelor   \n",
      "3     WW63253  California      M              Bachelor   \n",
      "4     GA49547  Washington      M  High School or Below   \n",
      "...       ...         ...    ...                   ...   \n",
      "4003      NaN         NaN    NaN                   NaN   \n",
      "4004      NaN         NaN    NaN                   NaN   \n",
      "4005      NaN         NaN    NaN                   NaN   \n",
      "4006      NaN         NaN    NaN                   NaN   \n",
      "4007      NaN         NaN    NaN                   NaN   \n",
      "\n",
      "     Customer Lifetime Value   Income  Monthly Premium Auto  \\\n",
      "0                        NaN      0.0                1000.0   \n",
      "1                 697953.59%      0.0                  94.0   \n",
      "2                1288743.17%  48767.0                 108.0   \n",
      "3                 764586.18%      0.0                 106.0   \n",
      "4                 536307.65%  36357.0                  68.0   \n",
      "...                      ...      ...                   ...   \n",
      "4003                     NaN      NaN                   NaN   \n",
      "4004                     NaN      NaN                   NaN   \n",
      "4005                     NaN      NaN                   NaN   \n",
      "4006                     NaN      NaN                   NaN   \n",
      "4007                     NaN      NaN                   NaN   \n",
      "\n",
      "     Number of Open Complaints     Policy Type  Vehicle Class  \\\n",
      "0                       1/0/00   Personal Auto  Four-Door Car   \n",
      "1                       1/0/00   Personal Auto  Four-Door Car   \n",
      "2                       1/0/00   Personal Auto   Two-Door Car   \n",
      "3                       1/0/00  Corporate Auto            SUV   \n",
      "4                       1/0/00   Personal Auto  Four-Door Car   \n",
      "...                        ...             ...            ...   \n",
      "4003                       NaN             NaN            NaN   \n",
      "4004                       NaN             NaN            NaN   \n",
      "4005                       NaN             NaN            NaN   \n",
      "4006                       NaN             NaN            NaN   \n",
      "4007                       NaN             NaN            NaN   \n",
      "\n",
      "      Total Claim Amount  \n",
      "0               2.704934  \n",
      "1            1131.464935  \n",
      "2             566.472247  \n",
      "3             529.881344  \n",
      "4              17.269323  \n",
      "...                  ...  \n",
      "4003                 NaN  \n",
      "4004                 NaN  \n",
      "4005                 NaN  \n",
      "4006                 NaN  \n",
      "4007                 NaN  \n",
      "\n",
      "[4008 rows x 11 columns]\n"
     ]
    }
   ],
   "source": [
    "# Your code goes here\n",
    "\n",
    "import pandas as pd\n",
    "\n",
    "urls = [\n",
    "    \"https://raw.githubusercontent.com/data-bootcamp-v4/data/main/file1.csv\",\n",
    "    \"https://raw.githubusercontent.com/data-bootcamp-v4/data/main/file2.csv\",\n",
    "    \"https://raw.githubusercontent.com/data-bootcamp-v4/data/main/file3.csv\"\n",
    "]\n",
    "\n",
    "dfs = [pd.read_csv(url) for url in urls]\n",
    "\n",
    "print(dfs[0])"
   ]
  },
  {
   "cell_type": "code",
   "execution_count": 3,
   "id": "d931f715",
   "metadata": {},
   "outputs": [
    {
     "name": "stdout",
     "output_type": "stream",
     "text": [
      "[       unnamed:_0 customer       state  customer_lifetime_value response  \\\n",
      "0               0  DK49336     Arizona              4809.216960       No   \n",
      "1               1  KX64629  California              2228.525238       No   \n",
      "2               2  LZ68649  Washington             14947.917300       No   \n",
      "3               3  XL78013      Oregon             22332.439460      Yes   \n",
      "4               4  QA50777      Oregon              9025.067525       No   \n",
      "...           ...      ...         ...                      ...      ...   \n",
      "10905       10905  FE99816      Nevada             15563.369440       No   \n",
      "10906       10906  KX53892      Oregon              5259.444853       No   \n",
      "10907       10907  TL39050     Arizona             23893.304100       No   \n",
      "10908       10908  WA60547  California             11971.977650       No   \n",
      "10909       10909  IV32877  California              6857.519928       No   \n",
      "\n",
      "       coverage education effective_to_date employmentstatus gender  ...  \\\n",
      "0         Basic   College        2011-02-18         Employed      M  ...   \n",
      "1         Basic   College        2011-01-18       Unemployed      F  ...   \n",
      "2         Basic  Bachelor        2011-02-10         Employed      M  ...   \n",
      "3      Extended   College        2011-01-11         Employed      M  ...   \n",
      "4       Premium  Bachelor        2011-01-17    Medical Leave      F  ...   \n",
      "...         ...       ...               ...              ...    ...  ...   \n",
      "10905   Premium  Bachelor        2011-01-19       Unemployed      F  ...   \n",
      "10906     Basic   College        2011-01-06         Employed      F  ...   \n",
      "10907  Extended  Bachelor        2011-02-06         Employed      F  ...   \n",
      "10908   Premium   College        2011-02-13         Employed      F  ...   \n",
      "10909     Basic  Bachelor        2011-01-08       Unemployed      M  ...   \n",
      "\n",
      "       number_of_policies     policy_type        policy  renew_offer_type  \\\n",
      "0                       9  Corporate Auto  Corporate L3            Offer3   \n",
      "1                       1   Personal Auto   Personal L3            Offer4   \n",
      "2                       2   Personal Auto   Personal L3            Offer3   \n",
      "3                       2  Corporate Auto  Corporate L3            Offer2   \n",
      "4                       7   Personal Auto   Personal L2            Offer1   \n",
      "...                   ...             ...           ...               ...   \n",
      "10905                   7   Personal Auto   Personal L1            Offer3   \n",
      "10906                   6   Personal Auto   Personal L3            Offer2   \n",
      "10907                   2  Corporate Auto  Corporate L3            Offer1   \n",
      "10908                   6   Personal Auto   Personal L1            Offer1   \n",
      "10909                   3   Personal Auto   Personal L1            Offer4   \n",
      "\n",
      "       sales_channel  total_claim_amount  vehicle_class  vehicle_size  \\\n",
      "0              Agent          292.800000  Four-Door Car       Medsize   \n",
      "1        Call Center          744.924331  Four-Door Car       Medsize   \n",
      "2        Call Center          480.000000            SUV       Medsize   \n",
      "3             Branch          484.013411  Four-Door Car       Medsize   \n",
      "4             Branch          707.925645  Four-Door Car       Medsize   \n",
      "...              ...                 ...            ...           ...   \n",
      "10905            Web         1214.400000     Luxury Car       Medsize   \n",
      "10906         Branch          273.018929  Four-Door Car       Medsize   \n",
      "10907            Web          381.306996     Luxury SUV       Medsize   \n",
      "10908         Branch          618.288849            SUV       Medsize   \n",
      "10909            Web         1021.719397            SUV       Medsize   \n",
      "\n",
      "      vehicle_type month  \n",
      "0                A     2  \n",
      "1                A     1  \n",
      "2                A     2  \n",
      "3                A     1  \n",
      "4                A     1  \n",
      "...            ...   ...  \n",
      "10905            A     1  \n",
      "10906            A     1  \n",
      "10907            A     2  \n",
      "10908            A     2  \n",
      "10909            A     1  \n",
      "\n",
      "[10910 rows x 27 columns]]\n"
     ]
    }
   ],
   "source": [
    "# Your code goes here\n",
    "\n",
    "import pandas as pd\n",
    "\n",
    "url = (\"https://raw.githubusercontent.com/data-bootcamp-v4/data/main/marketing_customer_analysis_clean.csv\")\n",
    "\n",
    "df = [pd.read_csv(url)]\n",
    "      \n",
    "print(df)"
   ]
  },
  {
   "cell_type": "markdown",
   "id": "df35fd0d-513e-4e77-867e-429da10a9cc7",
   "metadata": {
    "id": "df35fd0d-513e-4e77-867e-429da10a9cc7"
   },
   "source": [
    "1. You work at the marketing department and you want to know which sales channel brought the most sales in terms of total revenue. Using pivot, create a summary table showing the total revenue for each sales channel (branch, call center, web, and mail).\n",
    "Round the total revenue to 2 decimal points.  Analyze the resulting table to draw insights."
   ]
  },
  {
   "cell_type": "code",
   "execution_count": null,
   "id": "7e1611d5",
   "metadata": {},
   "outputs": [],
   "source": [
    "import pandas as pd\n",
    "\n",
    "#Data\n",
    "data = {\n",
    "    'Sales Channel': ['Branch', 'Call Center', 'Web', 'Mail', 'Branch', 'Web', 'Call Center'],\n",
    "    'Total Revenue': [100.25, 200.50, 150.75, 75.30, 180.90, 120.60, 220.80]\n",
    "}\n",
    "\n",
    "# Create DataFrame\n",
    "df = pd.DataFrame(data)\n",
    "\n",
    "# Pivot table to calculate total revenue for each sales channel\n",
    "summary_table = df.pivot_table(index='Sales Channel', values='Total Revenue', aggfunc='sum')\n",
    "\n",
    "# Round the total revenue to 2 decimal points\n",
    "summary_table['Total Revenue'] = summary_table['Total Revenue'].round(2)\n",
    "\n",
    "# Display the summary table\n",
    "print(summary_table)"
   ]
  },
  {
   "cell_type": "markdown",
   "id": "640993b2-a291-436c-a34d-a551144f8196",
   "metadata": {
    "id": "640993b2-a291-436c-a34d-a551144f8196"
   },
   "source": [
    "2. Create a pivot table that shows the average customer lifetime value per gender and education level. Analyze the resulting table to draw insights."
   ]
  },
  {
   "cell_type": "code",
   "execution_count": null,
   "id": "fa8c57a0",
   "metadata": {},
   "outputs": [],
   "source": [
    "import pandas as pd\n",
    "\n",
    "# Load the dataset\n",
    "data = [\n",
    "    {'unnamed:_0': 0, 'customer': 'DK49336', 'state': 'Arizona', 'customer_lifetime_value': '4809.216960', 'response': 'No', 'coverage': 'Basic', 'education': 'College', 'effective_to_date': '2011-02-18', 'employmentstatus': 'Employed', 'gender': 'M', 'income': '48029', 'location_code': 'Suburban', 'marital_status': 'Married', 'monthly_premium_auto': '61', 'months_since_last_claim': '7', 'months_since_policy_inception': '52', 'number_of_open_complaints': '1', 'number_of_policies': '9', 'policy_type': 'Corporate Auto', 'policy': 'Corporate L3', 'renew_offer_type': 'Offer3', 'sales_channel': 'Agent', 'total_claim_amount': '292.8', 'vehicle_class': 'Four-Door Car', 'vehicle_size': 'Medsize', 'vehicle_type': 'A', 'month': '2'},\n",
    "    # Add other rows...\n",
    "]\n",
    "\n",
    "df = pd.DataFrame(data)\n",
    "\n",
    "# 1. Check for missing values and handle them\n",
    "df.fillna(0, inplace=True)\n",
    "\n",
    "# 2. Convert data types to the correct format\n",
    "df['effective_to_date'] = pd.to_datetime(df['effective_to_date'])\n",
    "\n",
    "# 3. Format columns with inconsistent values\n",
    "df['customer_lifetime_value'] = df['customer_lifetime_value'].astype(float)  # Adjust to float\n",
    "\n",
    "# 4. Rename columns for consistency and readability\n",
    "df.rename(columns={'unnamed:_0': 'id'}, inplace=True)\n",
    "\n",
    "# 5. Drop unnecessary columns\n",
    "df.drop(columns=['location_code'], inplace=True)\n",
    "\n",
    "# 6. Ensure consistency in categorical variables\n",
    "df['gender'] = df['gender'].str.upper()  # Convert gender to uppercase\n",
    "\n",
    "# 7. Ensure consistency in date formats (already done in step 2)\n",
    "\n",
    "# Display the cleaned and formatted DataFrame\n",
    "print(df)"
   ]
  },
  {
   "cell_type": "markdown",
   "id": "32c7f2e5-3d90-43e5-be33-9781b6069198",
   "metadata": {
    "id": "32c7f2e5-3d90-43e5-be33-9781b6069198"
   },
   "source": [
    "## Bonus\n",
    "\n",
    "You work at the customer service department and you want to know which months had the highest number of complaints by policy type category. Create a summary table showing the number of complaints by policy type and month.\n",
    "Show it in a long format table."
   ]
  },
  {
   "cell_type": "markdown",
   "id": "e3d09a8f-953c-448a-a5f8-2e5a8cca7291",
   "metadata": {
    "id": "e3d09a8f-953c-448a-a5f8-2e5a8cca7291"
   },
   "source": [
    "*In data analysis, a long format table is a way of structuring data in which each observation or measurement is stored in a separate row of the table. The key characteristic of a long format table is that each column represents a single variable, and each row represents a single observation of that variable.*\n",
    "\n",
    "*More information about long and wide format tables here: https://www.statology.org/long-vs-wide-data/*"
   ]
  },
  {
   "cell_type": "code",
   "execution_count": 2,
   "id": "3a069e0b-b400-470e-904d-d17582191be4",
   "metadata": {
    "id": "3a069e0b-b400-470e-904d-d17582191be4"
   },
   "outputs": [],
   "source": [
    "# Your code goes here"
   ]
  },
  {
   "cell_type": "code",
   "execution_count": null,
   "id": "c95ca986",
   "metadata": {},
   "outputs": [],
   "source": []
  }
 ],
 "metadata": {
  "colab": {
   "provenance": []
  },
  "kernelspec": {
   "display_name": "Python 3 (ipykernel)",
   "language": "python",
   "name": "python3"
  },
  "language_info": {
   "codemirror_mode": {
    "name": "ipython",
    "version": 3
   },
   "file_extension": ".py",
   "mimetype": "text/x-python",
   "name": "python",
   "nbconvert_exporter": "python",
   "pygments_lexer": "ipython3",
   "version": "3.11.7"
  }
 },
 "nbformat": 4,
 "nbformat_minor": 5
}
